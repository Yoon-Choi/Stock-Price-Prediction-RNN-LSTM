{
 "cells": [
  {
   "cell_type": "markdown",
   "id": "8695d2bd-b9e8-4b76-a81c-94ea2390d849",
   "metadata": {},
   "source": [
    "# 1. Libraries and settings"
   ]
  },
  {
   "cell_type": "code",
   "execution_count": 41,
   "id": "52681fd3-69f7-4541-9428-c294b6c9c391",
   "metadata": {},
   "outputs": [],
   "source": [
    "import numpy as np\n",
    "import matplotlib.pyplot as plt\n",
    "import pandas as pd\n",
    "import pandas_datareader as pdr\n",
    "from datetime import datetime as dt\n",
    "\n",
    "import tensorflow as tf\n",
    "from tensorflow.keras import layers\n",
    "from sklearn.preprocessing import MinMaxScaler"
   ]
  },
  {
   "cell_type": "markdown",
   "id": "3415c88a-80b3-4de2-8c61-4c6fb7fe2d27",
   "metadata": {},
   "source": [
    "### Load data for specific company"
   ]
  },
  {
   "cell_type": "code",
   "execution_count": 46,
   "id": "9f0a9433-f54c-4157-8e19-ff79ea44a936",
   "metadata": {},
   "outputs": [],
   "source": [
    "company = 'ZAL.DE'  # using zalando as an example\n",
    "\n",
    "start = dt(2017, 1, 1)\n",
    "end = dt(2021, 9, 29)\n",
    "\n",
    "training_data = pdr.DataReader(company, 'yahoo', start, end)\n",
    "validation_data = pdr.DataReader(company, 'yahoo', end, dt(dt.now().year, dt.now().month, dt.now().day))"
   ]
  },
  {
   "cell_type": "code",
   "execution_count": 47,
   "id": "2b2e5a73-b6e4-486d-8b6d-b5c1292f484b",
   "metadata": {},
   "outputs": [
    {
     "data": {
      "text/html": [
       "<div>\n",
       "<style scoped>\n",
       "    .dataframe tbody tr th:only-of-type {\n",
       "        vertical-align: middle;\n",
       "    }\n",
       "\n",
       "    .dataframe tbody tr th {\n",
       "        vertical-align: top;\n",
       "    }\n",
       "\n",
       "    .dataframe thead th {\n",
       "        text-align: right;\n",
       "    }\n",
       "</style>\n",
       "<table border=\"1\" class=\"dataframe\">\n",
       "  <thead>\n",
       "    <tr style=\"text-align: right;\">\n",
       "      <th></th>\n",
       "      <th>High</th>\n",
       "      <th>Low</th>\n",
       "      <th>Open</th>\n",
       "      <th>Close</th>\n",
       "      <th>Volume</th>\n",
       "      <th>Adj Close</th>\n",
       "    </tr>\n",
       "    <tr>\n",
       "      <th>Date</th>\n",
       "      <th></th>\n",
       "      <th></th>\n",
       "      <th></th>\n",
       "      <th></th>\n",
       "      <th></th>\n",
       "      <th></th>\n",
       "    </tr>\n",
       "  </thead>\n",
       "  <tbody>\n",
       "    <tr>\n",
       "      <th>2017-01-02</th>\n",
       "      <td>37.134998</td>\n",
       "      <td>36.205002</td>\n",
       "      <td>36.439999</td>\n",
       "      <td>36.904999</td>\n",
       "      <td>142055</td>\n",
       "      <td>36.904999</td>\n",
       "    </tr>\n",
       "    <tr>\n",
       "      <th>2017-01-03</th>\n",
       "      <td>38.125000</td>\n",
       "      <td>36.900002</td>\n",
       "      <td>36.924999</td>\n",
       "      <td>37.314999</td>\n",
       "      <td>483411</td>\n",
       "      <td>37.314999</td>\n",
       "    </tr>\n",
       "    <tr>\n",
       "      <th>2017-01-04</th>\n",
       "      <td>37.500000</td>\n",
       "      <td>35.830002</td>\n",
       "      <td>37.310001</td>\n",
       "      <td>35.919998</td>\n",
       "      <td>539248</td>\n",
       "      <td>35.919998</td>\n",
       "    </tr>\n",
       "    <tr>\n",
       "      <th>2017-01-05</th>\n",
       "      <td>37.125000</td>\n",
       "      <td>35.860001</td>\n",
       "      <td>35.875000</td>\n",
       "      <td>36.764999</td>\n",
       "      <td>319191</td>\n",
       "      <td>36.764999</td>\n",
       "    </tr>\n",
       "    <tr>\n",
       "      <th>2017-01-06</th>\n",
       "      <td>37.665001</td>\n",
       "      <td>36.505001</td>\n",
       "      <td>36.669998</td>\n",
       "      <td>37.349998</td>\n",
       "      <td>308847</td>\n",
       "      <td>37.349998</td>\n",
       "    </tr>\n",
       "  </tbody>\n",
       "</table>\n",
       "</div>"
      ],
      "text/plain": [
       "                 High        Low       Open      Close  Volume  Adj Close\n",
       "Date                                                                     \n",
       "2017-01-02  37.134998  36.205002  36.439999  36.904999  142055  36.904999\n",
       "2017-01-03  38.125000  36.900002  36.924999  37.314999  483411  37.314999\n",
       "2017-01-04  37.500000  35.830002  37.310001  35.919998  539248  35.919998\n",
       "2017-01-05  37.125000  35.860001  35.875000  36.764999  319191  36.764999\n",
       "2017-01-06  37.665001  36.505001  36.669998  37.349998  308847  37.349998"
      ]
     },
     "execution_count": 47,
     "metadata": {},
     "output_type": "execute_result"
    }
   ],
   "source": [
    "training_data.head()"
   ]
  },
  {
   "cell_type": "code",
   "execution_count": 31,
   "id": "21c1167f-997c-4957-ae94-d6ddcf465fe7",
   "metadata": {},
   "outputs": [
    {
     "data": {
      "text/html": [
       "<div>\n",
       "<style scoped>\n",
       "    .dataframe tbody tr th:only-of-type {\n",
       "        vertical-align: middle;\n",
       "    }\n",
       "\n",
       "    .dataframe tbody tr th {\n",
       "        vertical-align: top;\n",
       "    }\n",
       "\n",
       "    .dataframe thead th {\n",
       "        text-align: right;\n",
       "    }\n",
       "</style>\n",
       "<table border=\"1\" class=\"dataframe\">\n",
       "  <thead>\n",
       "    <tr style=\"text-align: right;\">\n",
       "      <th></th>\n",
       "      <th>High</th>\n",
       "      <th>Low</th>\n",
       "      <th>Open</th>\n",
       "      <th>Close</th>\n",
       "      <th>Volume</th>\n",
       "      <th>Adj Close</th>\n",
       "    </tr>\n",
       "  </thead>\n",
       "  <tbody>\n",
       "    <tr>\n",
       "      <th>count</th>\n",
       "      <td>1202.000000</td>\n",
       "      <td>1202.000000</td>\n",
       "      <td>1202.000000</td>\n",
       "      <td>1202.000000</td>\n",
       "      <td>1.202000e+03</td>\n",
       "      <td>1202.000000</td>\n",
       "    </tr>\n",
       "    <tr>\n",
       "      <th>mean</th>\n",
       "      <td>53.504076</td>\n",
       "      <td>52.035695</td>\n",
       "      <td>52.791614</td>\n",
       "      <td>52.811872</td>\n",
       "      <td>5.563801e+05</td>\n",
       "      <td>52.811872</td>\n",
       "    </tr>\n",
       "    <tr>\n",
       "      <th>std</th>\n",
       "      <td>21.804736</td>\n",
       "      <td>21.178907</td>\n",
       "      <td>21.529384</td>\n",
       "      <td>21.503428</td>\n",
       "      <td>3.815115e+05</td>\n",
       "      <td>21.503428</td>\n",
       "    </tr>\n",
       "    <tr>\n",
       "      <th>min</th>\n",
       "      <td>23.040001</td>\n",
       "      <td>20.990000</td>\n",
       "      <td>22.280001</td>\n",
       "      <td>22.440001</td>\n",
       "      <td>0.000000e+00</td>\n",
       "      <td>22.440001</td>\n",
       "    </tr>\n",
       "    <tr>\n",
       "      <th>25%</th>\n",
       "      <td>39.507500</td>\n",
       "      <td>38.554999</td>\n",
       "      <td>39.003750</td>\n",
       "      <td>39.027500</td>\n",
       "      <td>3.532428e+05</td>\n",
       "      <td>39.027500</td>\n",
       "    </tr>\n",
       "    <tr>\n",
       "      <th>50%</th>\n",
       "      <td>44.209999</td>\n",
       "      <td>43.297499</td>\n",
       "      <td>43.747499</td>\n",
       "      <td>43.762501</td>\n",
       "      <td>4.647455e+05</td>\n",
       "      <td>43.762501</td>\n",
       "    </tr>\n",
       "    <tr>\n",
       "      <th>75%</th>\n",
       "      <td>66.619997</td>\n",
       "      <td>64.635000</td>\n",
       "      <td>65.694998</td>\n",
       "      <td>65.594999</td>\n",
       "      <td>6.226690e+05</td>\n",
       "      <td>65.594999</td>\n",
       "    </tr>\n",
       "    <tr>\n",
       "      <th>max</th>\n",
       "      <td>105.900002</td>\n",
       "      <td>102.250000</td>\n",
       "      <td>104.400002</td>\n",
       "      <td>104.650002</td>\n",
       "      <td>4.190026e+06</td>\n",
       "      <td>104.650002</td>\n",
       "    </tr>\n",
       "  </tbody>\n",
       "</table>\n",
       "</div>"
      ],
      "text/plain": [
       "              High          Low         Open        Close        Volume  \\\n",
       "count  1202.000000  1202.000000  1202.000000  1202.000000  1.202000e+03   \n",
       "mean     53.504076    52.035695    52.791614    52.811872  5.563801e+05   \n",
       "std      21.804736    21.178907    21.529384    21.503428  3.815115e+05   \n",
       "min      23.040001    20.990000    22.280001    22.440001  0.000000e+00   \n",
       "25%      39.507500    38.554999    39.003750    39.027500  3.532428e+05   \n",
       "50%      44.209999    43.297499    43.747499    43.762501  4.647455e+05   \n",
       "75%      66.619997    64.635000    65.694998    65.594999  6.226690e+05   \n",
       "max     105.900002   102.250000   104.400002   104.650002  4.190026e+06   \n",
       "\n",
       "         Adj Close  \n",
       "count  1202.000000  \n",
       "mean     52.811872  \n",
       "std      21.503428  \n",
       "min      22.440001  \n",
       "25%      39.027500  \n",
       "50%      43.762501  \n",
       "75%      65.594999  \n",
       "max     104.650002  "
      ]
     },
     "execution_count": 31,
     "metadata": {},
     "output_type": "execute_result"
    }
   ],
   "source": [
    "training_data.describe()"
   ]
  },
  {
   "cell_type": "code",
   "execution_count": 32,
   "id": "f774a32b-962d-49d8-be8a-f0a8d2c1a5b8",
   "metadata": {},
   "outputs": [
    {
     "name": "stdout",
     "output_type": "stream",
     "text": [
      "<class 'pandas.core.frame.DataFrame'>\n",
      "DatetimeIndex: 1202 entries, 2017-01-02 to 2021-09-29\n",
      "Data columns (total 6 columns):\n",
      " #   Column     Non-Null Count  Dtype  \n",
      "---  ------     --------------  -----  \n",
      " 0   High       1202 non-null   float64\n",
      " 1   Low        1202 non-null   float64\n",
      " 2   Open       1202 non-null   float64\n",
      " 3   Close      1202 non-null   float64\n",
      " 4   Volume     1202 non-null   int64  \n",
      " 5   Adj Close  1202 non-null   float64\n",
      "dtypes: float64(5), int64(1)\n",
      "memory usage: 65.7 KB\n"
     ]
    }
   ],
   "source": [
    "training_data.info()"
   ]
  },
  {
   "cell_type": "markdown",
   "id": "45d6c199-e630-45f9-a0e5-1fc230009651",
   "metadata": {},
   "source": [
    "### Scale data to range between [0,1]"
   ]
  },
  {
   "cell_type": "code",
   "execution_count": 13,
   "id": "835afa97-cdd1-49b6-8db4-4151aa7fd66e",
   "metadata": {},
   "outputs": [],
   "source": [
    "scaler = MinMaxScaler(feature_range=(0,1))\n",
    "scaled_data = scaler.fit_transform(training_data['Close'].values.reshape(-1,1))  # before scaling, reshape the closing values array into a single column vector"
   ]
  },
  {
   "cell_type": "code",
   "execution_count": 14,
   "id": "e95c6597-c262-43b2-8ee2-77c6cd6e01d7",
   "metadata": {},
   "outputs": [],
   "source": [
    "prediction_days = 60  # number of days of data to use for making prediction\n",
    "\n",
    "X, Y = [], []\n",
    "\n",
    "for x in range(prediction_days, len(scaled_data)):\n",
    "    X.append(scaled_data[x - prediction_days:x])  # prediction_days values before x is the input \n",
    "    Y.append(scaled_data[x, 0])  # the single value after prediction_days values, x, is the output (,0 is to flatten)\n",
    "\n",
    "# Convert to numpy arrays\n",
    "X, Y = np.array(X), np.array(Y)"
   ]
  },
  {
   "cell_type": "code",
   "execution_count": 50,
   "id": "4d19cf85-3193-4a43-94da-8f879171d44b",
   "metadata": {},
   "outputs": [
    {
     "name": "stdout",
     "output_type": "stream",
     "text": [
      "(1142, 60, 1) (1142,)\n"
     ]
    }
   ],
   "source": [
    "print(X.shape, Y.shape)"
   ]
  },
  {
   "cell_type": "markdown",
   "id": "3a6fee02-d5af-4d58-85e9-16fd04667984",
   "metadata": {},
   "source": [
    "### Save the last 100 data pairs for validation"
   ]
  },
  {
   "cell_type": "code",
   "execution_count": 35,
   "id": "f87c38a1-e3e7-46d7-ab37-49b147f6cd77",
   "metadata": {},
   "outputs": [],
   "source": [
    "x_train, y_train, x_valid, y_valid = X[:X.shape[0]-100], Y[:Y.shape[0]-100], X[X.shape[0]-100:], Y[Y.shape[0]-100:]"
   ]
  },
  {
   "cell_type": "code",
   "execution_count": 18,
   "id": "b3824115-9da1-4c81-877b-2a47d863c881",
   "metadata": {},
   "outputs": [
    {
     "name": "stdout",
     "output_type": "stream",
     "text": [
      "[[0.17595181]\n",
      " [0.18093903]\n",
      " [0.16397029]\n",
      " [0.17424886]\n",
      " [0.18136477]\n",
      " [0.18203379]\n",
      " [0.18002677]\n",
      " [0.19103515]\n",
      " [0.19723876]\n",
      " [0.21061915]\n",
      " [0.20934194]\n",
      " [0.1805133 ]\n",
      " [0.1771074 ]\n",
      " [0.1746746 ]\n",
      " [0.16360538]\n",
      " [0.16178082]\n",
      " [0.16001704]\n",
      " [0.16597736]\n",
      " [0.16421357]\n",
      " [0.16749785]\n",
      " [0.16397029]\n",
      " [0.17108625]\n",
      " [0.17248508]\n",
      " [0.17510033]\n",
      " [0.17461376]\n",
      " [0.16658554]\n",
      " [0.16907918]\n",
      " [0.17114703]\n",
      " [0.18355429]\n",
      " [0.1848315 ]\n",
      " [0.18550052]\n",
      " [0.1868994 ]\n",
      " [0.18434498]\n",
      " [0.18410169]\n",
      " [0.17893201]\n",
      " [0.18337184]\n",
      " [0.18951465]\n",
      " [0.19292055]\n",
      " [0.19109598]\n",
      " [0.18677773]\n",
      " [0.18708185]\n",
      " [0.18623038]\n",
      " [0.18245953]\n",
      " [0.17108625]\n",
      " [0.16232817]\n",
      " [0.16050356]\n",
      " [0.15928718]\n",
      " [0.16293636]\n",
      " [0.16251063]\n",
      " [0.17443131]\n",
      " [0.17777642]\n",
      " [0.17187689]\n",
      " [0.17540445]\n",
      " [0.17984427]\n",
      " [0.18233791]\n",
      " [0.18440576]\n",
      " [0.17984427]\n",
      " [0.17309327]\n",
      " [0.17893201]\n",
      " [0.18343267]]\n",
      "-----------\n",
      "0.18306776502662298\n"
     ]
    }
   ],
   "source": [
    "print(x_train[0])\n",
    "print(\"-----------\")\n",
    "print(y_train[0])\n",
    "\n",
    "# print(x_valid, y_valid)"
   ]
  },
  {
   "cell_type": "markdown",
   "id": "69eb7954-3eaf-438f-ac71-60179b835714",
   "metadata": {},
   "source": [
    "### Building RNN"
   ]
  },
  {
   "cell_type": "code",
   "execution_count": 51,
   "id": "42f41a70-bea0-434c-96a4-64f768e4f1c6",
   "metadata": {},
   "outputs": [],
   "source": [
    "model = tf.keras.Sequential([\n",
    "    layers.LSTM(50, return_sequences=True, input_shape=(x_train.shape[1], 1)), # return_sequences determines if output is flat or is a sequence\n",
    "    layers.Dropout(0.2),\n",
    "    layers.LSTM(50, return_sequences=True),\n",
    "    layers.Dropout(0.2),\n",
    "    layers.LSTM(50, return_sequences=False),\n",
    "    layers.Dropout(0.2),\n",
    "\n",
    "    layers.Dense(25),\n",
    "    layers.Dense(1)  # predicition layer\n",
    "])"
   ]
  },
  {
   "cell_type": "markdown",
   "id": "416aa457-35ec-4b06-89e9-543a58ca177d",
   "metadata": {},
   "source": [
    "### optimization : Adam"
   ]
  },
  {
   "cell_type": "code",
   "execution_count": 53,
   "id": "61e52b16-d707-4938-bd70-570a2091650d",
   "metadata": {},
   "outputs": [],
   "source": [
    "# keras.optimizers.Adam(lr=1e-3, decay=1e-5)\n",
    "model.compile(\n",
    "    optimizer='adam',\n",
    "    loss='mean_squared_error',\n",
    "    metrics=['mean_absolute_error']\n",
    ")"
   ]
  },
  {
   "cell_type": "code",
   "execution_count": 21,
   "id": "9697476d-1ec3-44c1-b41e-57fb61c844a8",
   "metadata": {},
   "outputs": [],
   "source": [
    "from tensorflow.keras.callbacks import EarlyStopping\n",
    "early_stopping = EarlyStopping(\n",
    "    monitor='val_mean_absolute_error',\n",
    "    min_delta=0.001,\n",
    "    verbose=1,\n",
    "    patience=25,\n",
    "    restore_best_weights=True\n",
    ")"
   ]
  },
  {
   "cell_type": "code",
   "execution_count": 22,
   "id": "5f0fd218-a410-4a3d-93df-21f8629d4c4b",
   "metadata": {},
   "outputs": [
    {
     "name": "stdout",
     "output_type": "stream",
     "text": [
      "Epoch 1/100\n",
      "33/33 [==============================] - 7s 91ms/step - loss: 0.0216 - mean_absolute_error: 0.1004 - val_loss: 0.0054 - val_mean_absolute_error: 0.0568\n",
      "Epoch 2/100\n",
      "33/33 [==============================] - 2s 69ms/step - loss: 0.0044 - mean_absolute_error: 0.0473 - val_loss: 0.0018 - val_mean_absolute_error: 0.0304\n",
      "Epoch 3/100\n",
      "33/33 [==============================] - 2s 71ms/step - loss: 0.0032 - mean_absolute_error: 0.0406 - val_loss: 0.0018 - val_mean_absolute_error: 0.0322\n",
      "Epoch 4/100\n",
      "33/33 [==============================] - 2s 73ms/step - loss: 0.0030 - mean_absolute_error: 0.0388 - val_loss: 0.0021 - val_mean_absolute_error: 0.0336\n",
      "Epoch 5/100\n",
      "33/33 [==============================] - 3s 84ms/step - loss: 0.0028 - mean_absolute_error: 0.0376 - val_loss: 0.0033 - val_mean_absolute_error: 0.0453\n",
      "Epoch 6/100\n",
      "33/33 [==============================] - 2s 69ms/step - loss: 0.0028 - mean_absolute_error: 0.0382 - val_loss: 0.0015 - val_mean_absolute_error: 0.0278\n",
      "Epoch 7/100\n",
      "33/33 [==============================] - 2s 70ms/step - loss: 0.0028 - mean_absolute_error: 0.0372 - val_loss: 0.0014 - val_mean_absolute_error: 0.0271\n",
      "Epoch 8/100\n",
      "33/33 [==============================] - 2s 71ms/step - loss: 0.0024 - mean_absolute_error: 0.0346 - val_loss: 0.0012 - val_mean_absolute_error: 0.0253\n",
      "Epoch 9/100\n",
      "33/33 [==============================] - 2s 68ms/step - loss: 0.0022 - mean_absolute_error: 0.0341 - val_loss: 0.0013 - val_mean_absolute_error: 0.0266\n",
      "Epoch 10/100\n",
      "33/33 [==============================] - 2s 70ms/step - loss: 0.0020 - mean_absolute_error: 0.0313 - val_loss: 0.0012 - val_mean_absolute_error: 0.0260\n",
      "Epoch 11/100\n",
      "33/33 [==============================] - 2s 68ms/step - loss: 0.0022 - mean_absolute_error: 0.0335 - val_loss: 0.0013 - val_mean_absolute_error: 0.0259\n",
      "Epoch 12/100\n",
      "33/33 [==============================] - 2s 69ms/step - loss: 0.0025 - mean_absolute_error: 0.0345 - val_loss: 0.0011 - val_mean_absolute_error: 0.0243\n",
      "Epoch 13/100\n",
      "33/33 [==============================] - 2s 69ms/step - loss: 0.0018 - mean_absolute_error: 0.0299 - val_loss: 9.9787e-04 - val_mean_absolute_error: 0.0231\n",
      "Epoch 14/100\n",
      "33/33 [==============================] - 2s 69ms/step - loss: 0.0021 - mean_absolute_error: 0.0319 - val_loss: 9.8234e-04 - val_mean_absolute_error: 0.0232\n",
      "Epoch 15/100\n",
      "33/33 [==============================] - 2s 69ms/step - loss: 0.0016 - mean_absolute_error: 0.0283 - val_loss: 9.5708e-04 - val_mean_absolute_error: 0.0225\n",
      "Epoch 16/100\n",
      "33/33 [==============================] - 2s 70ms/step - loss: 0.0017 - mean_absolute_error: 0.0289 - val_loss: 9.3000e-04 - val_mean_absolute_error: 0.0223\n",
      "Epoch 17/100\n",
      "33/33 [==============================] - 2s 69ms/step - loss: 0.0015 - mean_absolute_error: 0.0273 - val_loss: 0.0010 - val_mean_absolute_error: 0.0244\n",
      "Epoch 18/100\n",
      "33/33 [==============================] - 2s 66ms/step - loss: 0.0016 - mean_absolute_error: 0.0282 - val_loss: 0.0011 - val_mean_absolute_error: 0.0248\n",
      "Epoch 19/100\n",
      "33/33 [==============================] - 2s 71ms/step - loss: 0.0017 - mean_absolute_error: 0.0282 - val_loss: 8.8559e-04 - val_mean_absolute_error: 0.0218\n",
      "Epoch 20/100\n",
      "33/33 [==============================] - 2s 69ms/step - loss: 0.0014 - mean_absolute_error: 0.0265 - val_loss: 9.1266e-04 - val_mean_absolute_error: 0.0229\n",
      "Epoch 21/100\n",
      "33/33 [==============================] - 2s 71ms/step - loss: 0.0015 - mean_absolute_error: 0.0270 - val_loss: 0.0012 - val_mean_absolute_error: 0.0245\n",
      "Epoch 22/100\n",
      "33/33 [==============================] - 2s 67ms/step - loss: 0.0015 - mean_absolute_error: 0.0283 - val_loss: 0.0010 - val_mean_absolute_error: 0.0231\n",
      "Epoch 23/100\n",
      "33/33 [==============================] - 2s 68ms/step - loss: 0.0016 - mean_absolute_error: 0.0298 - val_loss: 9.5261e-04 - val_mean_absolute_error: 0.0222\n",
      "Epoch 24/100\n",
      "33/33 [==============================] - 2s 66ms/step - loss: 0.0017 - mean_absolute_error: 0.0288 - val_loss: 0.0011 - val_mean_absolute_error: 0.0258\n",
      "Epoch 25/100\n",
      "33/33 [==============================] - 2s 70ms/step - loss: 0.0013 - mean_absolute_error: 0.0258 - val_loss: 7.8170e-04 - val_mean_absolute_error: 0.0205\n",
      "Epoch 26/100\n",
      "33/33 [==============================] - 2s 71ms/step - loss: 0.0015 - mean_absolute_error: 0.0266 - val_loss: 7.6167e-04 - val_mean_absolute_error: 0.0201\n",
      "Epoch 27/100\n",
      "33/33 [==============================] - 2s 68ms/step - loss: 0.0013 - mean_absolute_error: 0.0255 - val_loss: 8.2068e-04 - val_mean_absolute_error: 0.0206\n",
      "Epoch 28/100\n",
      "33/33 [==============================] - 2s 66ms/step - loss: 0.0013 - mean_absolute_error: 0.0251 - val_loss: 7.4935e-04 - val_mean_absolute_error: 0.0199\n",
      "Epoch 29/100\n",
      "33/33 [==============================] - 2s 66ms/step - loss: 0.0012 - mean_absolute_error: 0.0246 - val_loss: 8.2304e-04 - val_mean_absolute_error: 0.0216\n",
      "Epoch 30/100\n",
      "33/33 [==============================] - 2s 71ms/step - loss: 0.0012 - mean_absolute_error: 0.0243 - val_loss: 7.3115e-04 - val_mean_absolute_error: 0.0196\n",
      "Epoch 31/100\n",
      "33/33 [==============================] - 2s 67ms/step - loss: 0.0013 - mean_absolute_error: 0.0251 - val_loss: 0.0012 - val_mean_absolute_error: 0.0247\n",
      "Epoch 32/100\n",
      "33/33 [==============================] - 2s 67ms/step - loss: 0.0014 - mean_absolute_error: 0.0273 - val_loss: 7.5954e-04 - val_mean_absolute_error: 0.0203\n",
      "Epoch 33/100\n",
      "33/33 [==============================] - 2s 68ms/step - loss: 0.0013 - mean_absolute_error: 0.0246 - val_loss: 7.9905e-04 - val_mean_absolute_error: 0.0203\n",
      "Epoch 34/100\n",
      "33/33 [==============================] - 2s 67ms/step - loss: 0.0012 - mean_absolute_error: 0.0235 - val_loss: 9.7954e-04 - val_mean_absolute_error: 0.0223\n",
      "Epoch 35/100\n",
      "33/33 [==============================] - 2s 68ms/step - loss: 0.0013 - mean_absolute_error: 0.0248 - val_loss: 8.8712e-04 - val_mean_absolute_error: 0.0212\n",
      "Epoch 36/100\n",
      "33/33 [==============================] - 2s 69ms/step - loss: 0.0012 - mean_absolute_error: 0.0244 - val_loss: 7.9683e-04 - val_mean_absolute_error: 0.0204\n",
      "Epoch 37/100\n",
      "33/33 [==============================] - 2s 68ms/step - loss: 0.0011 - mean_absolute_error: 0.0243 - val_loss: 6.4801e-04 - val_mean_absolute_error: 0.0186\n",
      "Epoch 38/100\n",
      "33/33 [==============================] - 2s 72ms/step - loss: 0.0014 - mean_absolute_error: 0.0270 - val_loss: 8.5888e-04 - val_mean_absolute_error: 0.0231\n",
      "Epoch 39/100\n",
      "33/33 [==============================] - 2s 68ms/step - loss: 0.0012 - mean_absolute_error: 0.0243 - val_loss: 9.5978e-04 - val_mean_absolute_error: 0.0229\n",
      "Epoch 40/100\n",
      "33/33 [==============================] - 2s 69ms/step - loss: 0.0012 - mean_absolute_error: 0.0252 - val_loss: 6.2810e-04 - val_mean_absolute_error: 0.0181\n",
      "Epoch 41/100\n",
      "33/33 [==============================] - 2s 71ms/step - loss: 0.0013 - mean_absolute_error: 0.0265 - val_loss: 7.1948e-04 - val_mean_absolute_error: 0.0197\n",
      "Epoch 42/100\n",
      "33/33 [==============================] - 2s 67ms/step - loss: 0.0011 - mean_absolute_error: 0.0235 - val_loss: 5.8450e-04 - val_mean_absolute_error: 0.0175\n",
      "Epoch 43/100\n",
      "33/33 [==============================] - 2s 65ms/step - loss: 0.0012 - mean_absolute_error: 0.0252 - val_loss: 7.2931e-04 - val_mean_absolute_error: 0.0198\n",
      "Epoch 44/100\n",
      "33/33 [==============================] - 2s 66ms/step - loss: 0.0012 - mean_absolute_error: 0.0250 - val_loss: 7.3073e-04 - val_mean_absolute_error: 0.0210\n",
      "Epoch 45/100\n",
      "33/33 [==============================] - 2s 64ms/step - loss: 0.0011 - mean_absolute_error: 0.0246 - val_loss: 6.6154e-04 - val_mean_absolute_error: 0.0194\n",
      "Epoch 46/100\n",
      "33/33 [==============================] - 2s 68ms/step - loss: 0.0011 - mean_absolute_error: 0.0229 - val_loss: 6.9830e-04 - val_mean_absolute_error: 0.0204\n",
      "Epoch 47/100\n",
      "33/33 [==============================] - 3s 81ms/step - loss: 0.0011 - mean_absolute_error: 0.0236 - val_loss: 6.7020e-04 - val_mean_absolute_error: 0.0189\n",
      "Epoch 48/100\n",
      "33/33 [==============================] - 3s 80ms/step - loss: 0.0010 - mean_absolute_error: 0.0226 - val_loss: 5.7013e-04 - val_mean_absolute_error: 0.0171\n",
      "Epoch 49/100\n",
      "33/33 [==============================] - 3s 80ms/step - loss: 9.9913e-04 - mean_absolute_error: 0.0226 - val_loss: 5.9271e-04 - val_mean_absolute_error: 0.0178\n",
      "Epoch 50/100\n",
      "33/33 [==============================] - 3s 81ms/step - loss: 0.0010 - mean_absolute_error: 0.0221 - val_loss: 6.3734e-04 - val_mean_absolute_error: 0.0187\n",
      "Epoch 51/100\n",
      "33/33 [==============================] - 3s 80ms/step - loss: 9.7357e-04 - mean_absolute_error: 0.0221 - val_loss: 6.8505e-04 - val_mean_absolute_error: 0.0184\n",
      "Epoch 52/100\n",
      "33/33 [==============================] - 3s 81ms/step - loss: 0.0010 - mean_absolute_error: 0.0231 - val_loss: 6.5772e-04 - val_mean_absolute_error: 0.0196\n",
      "Epoch 53/100\n",
      "33/33 [==============================] - 3s 81ms/step - loss: 0.0011 - mean_absolute_error: 0.0229 - val_loss: 6.0161e-04 - val_mean_absolute_error: 0.0178\n",
      "Epoch 54/100\n",
      "33/33 [==============================] - 3s 80ms/step - loss: 0.0010 - mean_absolute_error: 0.0232 - val_loss: 6.2727e-04 - val_mean_absolute_error: 0.0188\n",
      "Epoch 55/100\n",
      "33/33 [==============================] - 3s 80ms/step - loss: 9.1745e-04 - mean_absolute_error: 0.0214 - val_loss: 5.4419e-04 - val_mean_absolute_error: 0.0172\n",
      "Epoch 56/100\n",
      "33/33 [==============================] - 3s 82ms/step - loss: 8.8837e-04 - mean_absolute_error: 0.0214 - val_loss: 9.1389e-04 - val_mean_absolute_error: 0.0221\n",
      "Epoch 57/100\n",
      "33/33 [==============================] - 2s 75ms/step - loss: 0.0014 - mean_absolute_error: 0.0278 - val_loss: 6.6100e-04 - val_mean_absolute_error: 0.0200\n",
      "Epoch 58/100\n",
      "33/33 [==============================] - 2s 69ms/step - loss: 0.0011 - mean_absolute_error: 0.0232 - val_loss: 6.4154e-04 - val_mean_absolute_error: 0.0178\n",
      "Epoch 59/100\n",
      "33/33 [==============================] - 2s 73ms/step - loss: 0.0012 - mean_absolute_error: 0.0241 - val_loss: 7.3918e-04 - val_mean_absolute_error: 0.0192\n",
      "Epoch 60/100\n",
      "33/33 [==============================] - 2s 69ms/step - loss: 9.6264e-04 - mean_absolute_error: 0.0215 - val_loss: 6.2451e-04 - val_mean_absolute_error: 0.0184\n",
      "Epoch 61/100\n",
      "33/33 [==============================] - 2s 67ms/step - loss: 9.1088e-04 - mean_absolute_error: 0.0213 - val_loss: 6.2212e-04 - val_mean_absolute_error: 0.0180\n",
      "Epoch 62/100\n",
      "33/33 [==============================] - 2s 67ms/step - loss: 9.6452e-04 - mean_absolute_error: 0.0216 - val_loss: 5.3928e-04 - val_mean_absolute_error: 0.0168\n",
      "Epoch 63/100\n",
      "33/33 [==============================] - 2s 67ms/step - loss: 0.0011 - mean_absolute_error: 0.0243 - val_loss: 8.0224e-04 - val_mean_absolute_error: 0.0233\n",
      "Epoch 64/100\n",
      "33/33 [==============================] - 2s 68ms/step - loss: 0.0011 - mean_absolute_error: 0.0235 - val_loss: 5.4132e-04 - val_mean_absolute_error: 0.0163\n",
      "Epoch 65/100\n",
      "33/33 [==============================] - 2s 73ms/step - loss: 9.3331e-04 - mean_absolute_error: 0.0216 - val_loss: 4.9523e-04 - val_mean_absolute_error: 0.0162\n",
      "Epoch 66/100\n",
      "33/33 [==============================] - 2s 65ms/step - loss: 0.0011 - mean_absolute_error: 0.0222 - val_loss: 4.7475e-04 - val_mean_absolute_error: 0.0154\n",
      "Epoch 67/100\n",
      "33/33 [==============================] - 2s 65ms/step - loss: 0.0010 - mean_absolute_error: 0.0231 - val_loss: 5.4853e-04 - val_mean_absolute_error: 0.0167\n",
      "Epoch 68/100\n",
      "33/33 [==============================] - 2s 66ms/step - loss: 9.7528e-04 - mean_absolute_error: 0.0229 - val_loss: 5.9243e-04 - val_mean_absolute_error: 0.0177\n",
      "Epoch 69/100\n",
      "33/33 [==============================] - 2s 66ms/step - loss: 9.5237e-04 - mean_absolute_error: 0.0221 - val_loss: 5.2120e-04 - val_mean_absolute_error: 0.0160\n",
      "Epoch 70/100\n",
      "33/33 [==============================] - 2s 69ms/step - loss: 9.0037e-04 - mean_absolute_error: 0.0212 - val_loss: 4.6140e-04 - val_mean_absolute_error: 0.0154\n",
      "Epoch 71/100\n",
      "33/33 [==============================] - 2s 69ms/step - loss: 0.0010 - mean_absolute_error: 0.0228 - val_loss: 4.8559e-04 - val_mean_absolute_error: 0.0163\n",
      "Epoch 72/100\n",
      "33/33 [==============================] - 2s 67ms/step - loss: 8.6538e-04 - mean_absolute_error: 0.0205 - val_loss: 4.6113e-04 - val_mean_absolute_error: 0.0155\n",
      "Epoch 73/100\n",
      "33/33 [==============================] - 2s 69ms/step - loss: 9.2336e-04 - mean_absolute_error: 0.0211 - val_loss: 4.9499e-04 - val_mean_absolute_error: 0.0160\n",
      "Epoch 74/100\n",
      "33/33 [==============================] - 2s 67ms/step - loss: 9.2644e-04 - mean_absolute_error: 0.0216 - val_loss: 4.2802e-04 - val_mean_absolute_error: 0.0147\n",
      "Epoch 75/100\n",
      "33/33 [==============================] - 2s 66ms/step - loss: 9.5875e-04 - mean_absolute_error: 0.0220 - val_loss: 7.2653e-04 - val_mean_absolute_error: 0.0204\n",
      "Epoch 76/100\n",
      "33/33 [==============================] - 2s 64ms/step - loss: 8.8254e-04 - mean_absolute_error: 0.0213 - val_loss: 5.2403e-04 - val_mean_absolute_error: 0.0170\n",
      "Epoch 77/100\n",
      "33/33 [==============================] - 2s 65ms/step - loss: 9.4366e-04 - mean_absolute_error: 0.0211 - val_loss: 4.4094e-04 - val_mean_absolute_error: 0.0148\n",
      "Epoch 78/100\n",
      "33/33 [==============================] - 2s 68ms/step - loss: 8.1371e-04 - mean_absolute_error: 0.0203 - val_loss: 7.2023e-04 - val_mean_absolute_error: 0.0220\n",
      "Epoch 79/100\n",
      "33/33 [==============================] - 2s 70ms/step - loss: 9.8673e-04 - mean_absolute_error: 0.0219 - val_loss: 4.9717e-04 - val_mean_absolute_error: 0.0159\n",
      "Epoch 80/100\n",
      "33/33 [==============================] - 2s 67ms/step - loss: 8.6460e-04 - mean_absolute_error: 0.0202 - val_loss: 4.2954e-04 - val_mean_absolute_error: 0.0145\n",
      "Epoch 81/100\n",
      "33/33 [==============================] - 3s 82ms/step - loss: 9.1807e-04 - mean_absolute_error: 0.0212 - val_loss: 4.0553e-04 - val_mean_absolute_error: 0.0143\n",
      "Epoch 82/100\n",
      "33/33 [==============================] - 3s 81ms/step - loss: 9.3837e-04 - mean_absolute_error: 0.0210 - val_loss: 5.4463e-04 - val_mean_absolute_error: 0.0165\n",
      "Epoch 83/100\n",
      "33/33 [==============================] - 3s 107ms/step - loss: 9.3741e-04 - mean_absolute_error: 0.0208 - val_loss: 4.0175e-04 - val_mean_absolute_error: 0.0142\n",
      "Epoch 84/100\n",
      "33/33 [==============================] - 6s 169ms/step - loss: 9.8172e-04 - mean_absolute_error: 0.0211 - val_loss: 4.7907e-04 - val_mean_absolute_error: 0.0165\n",
      "Epoch 85/100\n",
      "33/33 [==============================] - 3s 90ms/step - loss: 8.9000e-04 - mean_absolute_error: 0.0216 - val_loss: 4.7858e-04 - val_mean_absolute_error: 0.0158\n",
      "Epoch 86/100\n",
      "33/33 [==============================] - 2s 69ms/step - loss: 8.7738e-04 - mean_absolute_error: 0.0210 - val_loss: 3.8299e-04 - val_mean_absolute_error: 0.0137\n",
      "Epoch 87/100\n",
      "33/33 [==============================] - 3s 85ms/step - loss: 0.0011 - mean_absolute_error: 0.0233 - val_loss: 3.9267e-04 - val_mean_absolute_error: 0.0139\n",
      "Epoch 88/100\n",
      "33/33 [==============================] - 3s 85ms/step - loss: 0.0010 - mean_absolute_error: 0.0231 - val_loss: 5.1010e-04 - val_mean_absolute_error: 0.0157\n",
      "Epoch 89/100\n",
      "33/33 [==============================] - 3s 83ms/step - loss: 8.7679e-04 - mean_absolute_error: 0.0207 - val_loss: 3.8725e-04 - val_mean_absolute_error: 0.0138\n",
      "Epoch 90/100\n",
      "33/33 [==============================] - 2s 75ms/step - loss: 9.1796e-04 - mean_absolute_error: 0.0208 - val_loss: 4.8448e-04 - val_mean_absolute_error: 0.0153\n",
      "Epoch 91/100\n",
      "33/33 [==============================] - 2s 66ms/step - loss: 9.4280e-04 - mean_absolute_error: 0.0215 - val_loss: 3.9405e-04 - val_mean_absolute_error: 0.0143\n",
      "Epoch 92/100\n",
      "33/33 [==============================] - 2s 65ms/step - loss: 8.2251e-04 - mean_absolute_error: 0.0203 - val_loss: 5.6614e-04 - val_mean_absolute_error: 0.0176\n",
      "Epoch 93/100\n",
      "33/33 [==============================] - 2s 70ms/step - loss: 9.9187e-04 - mean_absolute_error: 0.0216 - val_loss: 4.7972e-04 - val_mean_absolute_error: 0.0165\n",
      "Epoch 94/100\n",
      "33/33 [==============================] - 2s 71ms/step - loss: 0.0010 - mean_absolute_error: 0.0213 - val_loss: 5.1491e-04 - val_mean_absolute_error: 0.0155\n",
      "Epoch 95/100\n",
      "33/33 [==============================] - 2s 69ms/step - loss: 7.3409e-04 - mean_absolute_error: 0.0189 - val_loss: 4.0491e-04 - val_mean_absolute_error: 0.0146\n",
      "Epoch 96/100\n",
      "33/33 [==============================] - 2s 72ms/step - loss: 9.3892e-04 - mean_absolute_error: 0.0216 - val_loss: 5.2562e-04 - val_mean_absolute_error: 0.0169\n",
      "Epoch 97/100\n",
      "33/33 [==============================] - 2s 69ms/step - loss: 0.0011 - mean_absolute_error: 0.0237 - val_loss: 4.6071e-04 - val_mean_absolute_error: 0.0164\n",
      "Epoch 98/100\n",
      "33/33 [==============================] - 2s 70ms/step - loss: 0.0010 - mean_absolute_error: 0.0225 - val_loss: 6.3521e-04 - val_mean_absolute_error: 0.0175\n",
      "Epoch 99/100\n",
      "33/33 [==============================] - 2s 68ms/step - loss: 9.1916e-04 - mean_absolute_error: 0.0211 - val_loss: 4.9560e-04 - val_mean_absolute_error: 0.0153\n",
      "Restoring model weights from the end of the best epoch.\n",
      "Epoch 00099: early stopping\n"
     ]
    }
   ],
   "source": [
    "history = model.fit(\n",
    "    x_train, y_train,\n",
    "    validation_data=(x_train, y_train),\n",
    "    epochs=100,\n",
    "    batch_size=32,\n",
    "    callbacks=[early_stopping]\n",
    ")"
   ]
  },
  {
   "cell_type": "markdown",
   "id": "0247c6e2-c27b-4257-b1ba-421631f51807",
   "metadata": {},
   "source": [
    "### Plot training history"
   ]
  },
  {
   "cell_type": "code",
   "execution_count": 36,
   "id": "19329b05-b378-4a39-ad44-042d02ffde63",
   "metadata": {},
   "outputs": [
    {
     "data": {
      "text/plain": [
       "<AxesSubplot:>"
      ]
     },
     "execution_count": 36,
     "metadata": {},
     "output_type": "execute_result"
    },
    {
     "data": {
      "image/png": "[encoded data removed]",
      "text/plain": [
       "<Figure size 432x288 with 1 Axes>"
      ]
     },
     "metadata": {
      "needs_background": "light"
     },
     "output_type": "display_data"
    },
    {
     "data": {
      "image/png": "[encoded data removed]",
      "text/plain": [
       "<Figure size 432x288 with 1 Axes>"
      ]
     },
     "metadata": {
      "needs_background": "light"
     },
     "output_type": "display_data"
    }
   ],
   "source": [
    "history_df = pd.DataFrame(history.history)\n",
    "history_df.loc[:, ['loss', 'val_loss']].plot()\n",
    "history_df.loc[:, ['mean_absolute_error', 'val_mean_absolute_error']].plot()"
   ]
  },
  {
   "cell_type": "markdown",
   "id": "d45f3f31-5a61-47e2-be3c-4fab0c19ec60",
   "metadata": {},
   "source": [
    "### model with last LSTM layer return_sequence=True \n",
    "### Plot training history"
   ]
  },
  {
   "cell_type": "code",
   "execution_count": 24,
   "id": "64e8c765-41cd-4537-9e07-28e286d49581",
   "metadata": {},
   "outputs": [
    {
     "data": {
      "text/plain": [
       "<AxesSubplot:>"
      ]
     },
     "execution_count": 24,
     "metadata": {},
     "output_type": "execute_result"
    },
    {
     "data": {
      "image/png": "[encoded data removed]",
      "text/plain": [
       "<Figure size 432x288 with 1 Axes>"
      ]
     },
     "metadata": {
      "needs_background": "light"
     },
     "output_type": "display_data"
    },
    {
     "data": {
      "image/png": "[encoded data removed]",
      "text/plain": [
       "<Figure size 432x288 with 1 Axes>"
      ]
     },
     "metadata": {
      "needs_background": "light"
     },
     "output_type": "display_data"
    }
   ],
   "source": [
    "history_df = pd.DataFrame(history.history)\n",
    "history_df.loc[:, ['loss', 'val_loss']].plot()\n",
    "history_df.loc[:, ['mean_absolute_error', 'val_mean_absolute_error']].plot()"
   ]
  },
  {
   "cell_type": "markdown",
   "id": "b8e53195-723f-477e-8558-8022e4236dbf",
   "metadata": {},
   "source": [
    "### Making predictions on unused validation data"
   ]
  },
  {
   "cell_type": "code",
   "execution_count": 40,
   "id": "7218e08b-e750-43d5-b112-8809ca8c83b6",
   "metadata": {},
   "outputs": [
    {
     "data": {
      "text/plain": [
       "Date\n",
       "2017-01-02    36.904999\n",
       "2017-01-03    37.314999\n",
       "2017-01-04    35.919998\n",
       "2017-01-05    36.764999\n",
       "2017-01-06    37.349998\n",
       "Name: Close, dtype: float64"
      ]
     },
     "execution_count": 40,
     "metadata": {},
     "output_type": "execute_result"
    }
   ],
   "source": [
    "actual_prices = validation_data['Close'].values\n",
    "\n",
    "total_dataset = pd.concat((training_data['Close'], validation_data['Close']), axis=0)\n",
    "total_dataset.head()"
   ]
  },
  {
   "cell_type": "code",
   "execution_count": 39,
   "id": "077fc475-9416-4c2f-a516-132145633b27",
   "metadata": {},
   "outputs": [
    {
     "data": {
      "text/plain": [
       "(2, 60, 1)"
      ]
     },
     "execution_count": 39,
     "metadata": {},
     "output_type": "execute_result"
    }
   ],
   "source": [
    "model_inputs = total_dataset[len(total_dataset) - len(validation_data) - prediction_days:].values\n",
    "model_inputs = model_inputs.reshape(-1, 1)\n",
    "model_inputs = scaler.transform(model_inputs)\n",
    "\n",
    "x_validation = []\n",
    "\n",
    "for x in range(prediction_days, len(model_inputs)):\n",
    "    x_validation.append(model_inputs[x-prediction_days:x])\n",
    "\n",
    "x_validation = np.array(x_validation)\n",
    "x_validation.shape"
   ]
  },
  {
   "cell_type": "code",
   "execution_count": null,
   "id": "a8683582-3958-4cef-9424-f61cb0b80590",
   "metadata": {},
   "outputs": [],
   "source": []
  }
 ],
 "metadata": {
  "kernelspec": {
   "display_name": "Python 3",
   "language": "python",
   "name": "python3"
  },
  "language_info": {
   "codemirror_mode": {
    "name": "ipython",
    "version": 3
   },
   "file_extension": ".py",
   "mimetype": "text/x-python",
   "name": "python",
   "nbconvert_exporter": "python",
   "pygments_lexer": "ipython3",
   "version": "3.8.8"
  }
 },
 "nbformat": 4,
 "nbformat_minor": 5
}
